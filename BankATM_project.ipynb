{
 "cells": [
  {
   "cell_type": "code",
   "execution_count": 3,
   "id": "91bff11d",
   "metadata": {},
   "outputs": [
    {
     "name": "stdout",
     "output_type": "stream",
     "text": [
      "\n",
      "                   Hello! How would you like to proceed?\n",
      "                   1. Enter 1 to create a PIN\n",
      "                   2. Enter 2 to deposite\n",
      "                   3. Enter 3 tp withdraw\n",
      "                   4. Enter 4 to check Balance\n",
      "                   5. Enter 5 to Exit\n",
      "        1\n",
      "Enter your PIN:1234\n",
      "PIN set successfully !\n",
      "Enter your PIN:1234\n",
      "enter The Amount:5000\n",
      "Deposite Successfully!\n",
      "Enter Your PIN:1234\n",
      "5000\n"
     ]
    }
   ],
   "source": [
    "class Atm:\n",
    "    def __init__(self):\n",
    "        \n",
    "        self.pin=\"\"\n",
    "        self.balance=0\n",
    "        self.menu()\n",
    "    def menu(self):\n",
    "        user_input=input('''\n",
    "                   Hello! How would you like to proceed?\n",
    "                   1. Enter 1 to create a PIN\n",
    "                   2. Enter 2 to deposite\n",
    "                   3. Enter 3 tp withdraw\n",
    "                   4. Enter 4 to check Balance\n",
    "                   5. Enter 5 to Exit\n",
    "        ''')\n",
    "        if user_input==\"1\":\n",
    "            self.creat_pin()\n",
    "        elif user_input==\"2\":\n",
    "            self.deposite()\n",
    "        elif user_input==\"3\":\n",
    "            self.withdraw()\n",
    "        elif user_input==\"4\":\n",
    "            self.check_balance()\n",
    "        else:\n",
    "            print(\"bye bye!\")\n",
    "            \n",
    "    def creat_pin(self):\n",
    "        self.pin=input(\"Enter your PIN:\")\n",
    "        print(\"PIN set successfully !\")\n",
    "        \n",
    "        \n",
    "    def deposite(self):\n",
    "        temp=input(\"Enter your PIN:\")\n",
    "        if temp==self.pin:\n",
    "            amount=int(input(\"enter The Amount:\"))\n",
    "            self.balance=self.balance+amount\n",
    "            print(\"Deposite Successfully!\")\n",
    "        else:\n",
    "            print(\"Invalid PIN!\")\n",
    "    def withdraw(self):\n",
    "        temp=input(\"Enetr your PIN:\")\n",
    "        if temp==self.pin:\n",
    "            withdraw_amt=int(input(\"Enter your Amount\"))\n",
    "            if withdraw_amt<self.balance:\n",
    "                self.balance=self.balance-withdraw_amt\n",
    "                print(\"Withdraw Successfully !\")\n",
    "            else:\n",
    "                print(\"insufficient fund\")\n",
    "        else:\n",
    "            print(\"Inavalid PIN\")\n",
    "    def check_balance(self):\n",
    "        temp=input(\"Enter Your PIN:\")\n",
    "        if temp==self.pin:\n",
    "            print(self.balance)\n",
    "        else:\n",
    "            print(\"Invalid PIN!\")\n",
    "sbi=Atm()\n",
    "sbi.deposite()\n",
    "sbi.check_balance()\n"
   ]
  },
  {
   "cell_type": "code",
   "execution_count": null,
   "id": "069691bd",
   "metadata": {},
   "outputs": [],
   "source": []
  },
  {
   "cell_type": "code",
   "execution_count": null,
   "id": "ef4c3bc9",
   "metadata": {},
   "outputs": [],
   "source": []
  }
 ],
 "metadata": {
  "kernelspec": {
   "display_name": "Python 3 (ipykernel)",
   "language": "python",
   "name": "python3"
  },
  "language_info": {
   "codemirror_mode": {
    "name": "ipython",
    "version": 3
   },
   "file_extension": ".py",
   "mimetype": "text/x-python",
   "name": "python",
   "nbconvert_exporter": "python",
   "pygments_lexer": "ipython3",
   "version": "3.9.7"
  }
 },
 "nbformat": 4,
 "nbformat_minor": 5
}
