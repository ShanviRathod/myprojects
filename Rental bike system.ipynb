{
 "cells": [
  {
   "cell_type": "code",
   "execution_count": null,
   "id": "4063058f",
   "metadata": {},
   "outputs": [],
   "source": [
    "print(\"We Provide Service Of Bike\")\n",
    "User_click=int(input('''\n",
    "Press 1 :Display Availbale stock of bike\n",
    "Press 2 : \n",
    "'''))"
   ]
  }
 ],
 "metadata": {
  "kernelspec": {
   "display_name": "Python 3 (ipykernel)",
   "language": "python",
   "name": "python3"
  },
  "language_info": {
   "codemirror_mode": {
    "name": "ipython",
    "version": 3
   },
   "file_extension": ".py",
   "mimetype": "text/x-python",
   "name": "python",
   "nbconvert_exporter": "python",
   "pygments_lexer": "ipython3",
   "version": "3.9.7"
  }
 },
 "nbformat": 4,
 "nbformat_minor": 5
}
