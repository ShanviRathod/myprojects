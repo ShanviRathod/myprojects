{
 "cells": [
  {
   "cell_type": "code",
   "execution_count": 4,
   "id": "235433f6",
   "metadata": {},
   "outputs": [
    {
     "name": "stdout",
     "output_type": "stream",
     "text": [
      "Enter your gessing Number:- 45\n",
      "Computer number:-  67\n",
      "Your Guessing number is too less\n"
     ]
    }
   ],
   "source": [
    "import random \n",
    "comp_number=random.randrange(1,101)\n",
    "User_number=int(input(\"Enter your gessing Number:- \"))\n",
    "print(\"Computer number:- \",comp_number)\n",
    "if comp_number>User_number:\n",
    "    print(\"Your Guessing number is too less\")\n",
    "elif comp_number<User_number:\n",
    "    print(\"Your Gessing number is too large\")\n",
    "elif comp_number==User_number:\n",
    "    print(\"your gessing number is equal to Computer number\")"
   ]
  },
  {
   "cell_type": "code",
   "execution_count": null,
   "id": "6a11ce94",
   "metadata": {},
   "outputs": [],
   "source": []
  }
 ],
 "metadata": {
  "kernelspec": {
   "display_name": "Python 3 (ipykernel)",
   "language": "python",
   "name": "python3"
  },
  "language_info": {
   "codemirror_mode": {
    "name": "ipython",
    "version": 3
   },
   "file_extension": ".py",
   "mimetype": "text/x-python",
   "name": "python",
   "nbconvert_exporter": "python",
   "pygments_lexer": "ipython3",
   "version": "3.9.7"
  }
 },
 "nbformat": 4,
 "nbformat_minor": 5
}
